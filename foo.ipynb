{
 "cells": [
  {
   "cell_type": "code",
   "execution_count": 1,
   "id": "27a65939",
   "metadata": {},
   "outputs": [],
   "source": [
    "import torch\n",
    "import torch.nn as nn\n",
    "import torch.nn.functional as F\n",
    "import math\n",
    "import mmh3 \n",
    "import matplotlib.pyplot as plt\n",
    "import numpy as np\n",
    "from tensorflow.keras.datasets import mnist"
   ]
  },
  {
   "cell_type": "code",
   "execution_count": 2,
   "id": "73c81f05",
   "metadata": {},
   "outputs": [
    {
     "name": "stdout",
     "output_type": "stream",
     "text": [
      "(60000, 28, 28) (60000,)\n",
      "(10000, 28, 28) (10000,)\n"
     ]
    }
   ],
   "source": [
    "(x_train, y_train), (x_test, y_test) = mnist.load_data()\n",
    "print(x_train.shape, y_train.shape)\n",
    "print(x_test.shape, y_test.shape)"
   ]
  },
  {
   "cell_type": "code",
   "execution_count": 3,
   "id": "ddadd33c",
   "metadata": {},
   "outputs": [
    {
     "name": "stdout",
     "output_type": "stream",
     "text": [
      "(28, 28)\n"
     ]
    },
    {
     "data": {
      "image/png": "[encoded data removed]",
      "text/plain": [
       "<Figure size 640x480 with 1 Axes>"
      ]
     },
     "metadata": {},
     "output_type": "display_data"
    }
   ],
   "source": [
    "# plot some images\n",
    "img = x_train[0]\n",
    "label = y_train[0]\n",
    "print(img.shape)\n",
    "plt.imshow(img, cmap='gray')\n",
    "plt.title(label)\n",
    "plt.show()"
   ]
  },
  {
   "cell_type": "code",
   "execution_count": 4,
   "id": "bab42503",
   "metadata": {},
   "outputs": [
    {
     "name": "stdout",
     "output_type": "stream",
     "text": [
      "torch.Size([1, 1, 28, 28])\n",
      "torch.Size([1, 128])\n"
     ]
    }
   ],
   "source": [
    "class SimpleEncoder(nn.Module):\n",
    "    def __init__(self):\n",
    "        super(SimpleEncoder, self).__init__()\n",
    "        # A simple CNN encoder: input (batch_size,channels,height,width) -> output vector (batch_size,128)\n",
    "        self.conv = nn.Sequential(\n",
    "            nn.Conv2d(1, 16, kernel_size=3, stride=2, padding=1),  # 28x28 -> 14x14\n",
    "            nn.ReLU(),\n",
    "            nn.Conv2d(16, 32, kernel_size=3, stride=2, padding=1), # 14x14 -> 7x7\n",
    "            nn.ReLU(),\n",
    "            nn.Flatten()\n",
    "        )\n",
    "        self.fc = nn.Linear(32 * 7 * 7, 128)\n",
    "    \n",
    "    def forward(self, x):\n",
    "        x = self.conv(x)\n",
    "        x = self.fc(x)\n",
    "        return x  # output shape: (batch_size, 128)\n",
    "    \n",
    "    \n",
    "encoder = SimpleEncoder()\n",
    "x = x_train[0]\n",
    "x = torch.tensor(x, dtype=torch.float32).unsqueeze(0).unsqueeze(0)\n",
    "print(x.shape)\n",
    "emb = encoder(x)\n",
    "print(emb.shape)\n"
   ]
  },
  {
   "cell_type": "code",
   "execution_count": 48,
   "id": "8041b5a8",
   "metadata": {},
   "outputs": [
    {
     "name": "stdout",
     "output_type": "stream",
     "text": [
      "Memory matrix M after write:\n",
      "torch.Size([3, 2])\n",
      "Logits after read:\n",
      "torch.Size([1, 2])\n",
      "tensor([[-0.1075, -0.2623]], grad_fn=<AddmmBackward0>)\n",
      "Probabilities:\n",
      "torch.Size([1, 2])\n",
      "tensor([[0.5386, 0.4614]], grad_fn=<SoftmaxBackward0>)\n",
      "Predicted classes:\n",
      "tensor([0])\n"
     ]
    }
   ],
   "source": [
    "class NeuralBloomFilter(nn.Module):\n",
    "    def __init__(self, memory_slots=10, word_size=32, class_num=10):\n",
    "        \"\"\"\n",
    "        memory_slots: Number of memory slots (columns in memory matrix)\n",
    "        word_size: Dimension of the write word and query vector\n",
    "        \"\"\"\n",
    "        super(NeuralBloomFilter, self).__init__()\n",
    "        self.encoder = SimpleEncoder()\n",
    "        \n",
    "        # f_w: maps encoder output to a write word of dimension word_size\n",
    "        self.fc_w = nn.Linear(128, word_size)\n",
    "        \n",
    "        # f_q: maps encoder output to a query vector of dimension word_size\n",
    "        self.fc_q = nn.Linear(128, word_size)\n",
    "        \n",
    "        # Learnable addressing matrix A: shape (word_size, memory_slots)\n",
    "        self.A = nn.Parameter(torch.randn(word_size, memory_slots), requires_grad=True)\n",
    "        \n",
    "        # Memory matrix M: shape (memory_slots, word_size), stored as a buffer (non-trainable)\n",
    "        self.register_buffer('M', torch.zeros(memory_slots, word_size))\n",
    "\n",
    "        # MLP for final output: maps read vector to class_num\n",
    "        self.mlp = nn.Sequential(\n",
    "            nn.Linear(word_size, 128), # (batch_size, word_size) -> (batch_size, 128)\n",
    "            nn.ReLU(),\n",
    "            nn.Linear(128, class_num) # (batch_size, 128) -> (batch_size, class_num)\n",
    "        )\n",
    " \n",
    "    def write(self, x):\n",
    "        \"\"\"\n",
    "        Write operation: Encode input x, generate write word w and query vector q,\n",
    "        compute addressing weights a via softmax(q @ A), then update memory: M = M + outer(w, a)\n",
    "        \"\"\"\n",
    "        z = self.encoder(x)         # (batch_size, 128)\n",
    "        w = self.fc_w(z)            # (batch_size, word_size)\n",
    "        q = self.fc_q(z)            # (batch_size, word_size)\n",
    "\n",
    "        a_logits = torch.matmul(q, self.A)  # (batch_size, memory_slots)\n",
    "        a = F.softmax(a_logits, dim=1)                   # (batch_size, memory_slots)\n",
    "        \n",
    "        \n",
    "        # a -> (batch_size, memory_slots) and w -> (batch_size, word_size)\n",
    "        # a.unsqueeze(2) -> (batch_size, memory_slots, 1)\n",
    "        # w.unsqueeze(1) -> (batch_size, 1, word_size)\n",
    "        update = torch.matmul(a.unsqueeze(2), w.unsqueeze(1)).detach()  # (batch_size, memory_slots, word_size)\n",
    "        \n",
    "        self.M = self.M + update.sum(dim=0) # (memory_slots, word_size)\n",
    "        \n",
    "        return a \n",
    "\n",
    "    def read(self, x):\n",
    "        \"\"\"\n",
    "        Read operation: Given input x, generate query vector q, compute addressing weights a, \n",
    "        then read from memory via weighted sum: read_vector = a @ M, resulting in a vector of dimension word_size.\n",
    "        \"\"\"\n",
    "        z = self.encoder(x)         # (batch_size, 128)\n",
    "        q = self.fc_q(z)            # (batch_size, word_size)\n",
    "        a_logits = torch.matmul(q, self.A)  # (batch_size, memory_slots)\n",
    "        a = F.softmax(a_logits, dim=1)                   # (batch_size, memory_slots)\n",
    "        # Read: weighted sum over memory slots:\n",
    "        read_vector = torch.matmul(a, self.M)       # (batch_size, word_size)\n",
    "        \n",
    "        logits = self.mlp(read_vector) # (batch_size, class_num)\n",
    "        return logits\n",
    "\n",
    "    def forward(self, x, mode='read'):\n",
    "        if mode == 'write':\n",
    "            return self.write(x)\n",
    "        else:\n",
    "            return self.read(x)\n",
    "        \n",
    "        \n",
    "# Example usage:\n",
    "model = NeuralBloomFilter(memory_slots=3, word_size=2, class_num=2)\n",
    "x = torch.randn(1, 1, 28, 28)\n",
    "\n",
    "model.write(x)\n",
    "\n",
    "# Print the memory matrix M after writing\n",
    "print(\"Memory matrix M after write:\")\n",
    "print(model.M.shape)\n",
    "\n",
    "# Read from the memory\n",
    "logits = model.read(x)\n",
    "print(\"Logits after read:\")\n",
    "print(logits.shape)\n",
    "print(logits)\n",
    "\n",
    "# Convert logits to probabilities\n",
    "probs = F.softmax(logits, dim=1)\n",
    "print(\"Probabilities:\")\n",
    "print(probs.shape)\n",
    "print(probs)\n",
    "\n",
    "# Final class predictions\n",
    "_, predicted_class = torch.max(probs, 1)\n",
    "print(\"Predicted classes:\")\n",
    "print(predicted_class)"
   ]
  },
  {
   "cell_type": "code",
   "execution_count": 49,
   "id": "f125efbd",
   "metadata": {},
   "outputs": [
    {
     "name": "stdout",
     "output_type": "stream",
     "text": [
      "Chosen class for storage set: 1\n"
     ]
    }
   ],
   "source": [
    "import random\n",
    "def sample_task(labels, storage_set_size=10, num_queries=20):\n",
    "    class_to_indices = {}\n",
    "    for idx, label in enumerate(labels):\n",
    "        if label not in class_to_indices:\n",
    "            class_to_indices[label] = []\n",
    "        class_to_indices[label].append(idx)\n",
    "    \n",
    "    chosen_class = random.choice(list(class_to_indices.keys()))\n",
    "    print(f\"Chosen class for storage set: {chosen_class}\")\n",
    "    storage_indices = random.sample(class_to_indices[chosen_class], storage_set_size)\n",
    "\n",
    "    num_in = num_queries // 2\n",
    "    num_out = num_queries - num_in\n",
    "    query_in_indices = random.sample(class_to_indices[chosen_class], num_in)\n",
    "    other_classes = [c for c in class_to_indices if c != chosen_class]\n",
    "    query_out_indices = []\n",
    "    for _ in range(num_out):\n",
    "        other_class = random.choice(other_classes)\n",
    "        query_out_indices.append(random.choice(class_to_indices[other_class]))\n",
    "    \n",
    "    query_indices = query_in_indices + query_out_indices\n",
    "    # define target as [1,0] for in-class and [0,1] for out-of-class\n",
    "    targets = []\n",
    "    for i in range(num_in):\n",
    "        targets.append([1, 0])\n",
    "    for i in range(num_out):\n",
    "        targets.append([0, 1])\n",
    "    targets = torch.tensor(targets, dtype=torch.float32)\n",
    "    \n",
    "    return storage_indices, query_indices, targets, class_to_indices, chosen_class\n",
    "\n",
    "storage_indices, query_indices, targets, class_to_indices, chosen_class = sample_task(y_train, storage_set_size=600, num_queries=100)"
   ]
  },
  {
   "cell_type": "code",
   "execution_count": 53,
   "id": "8dd1a26e",
   "metadata": {},
   "outputs": [],
   "source": [
    "def meta_train(model, dataset, labels, optimizer, criterion, device, meta_epochs=10, storage_set_size=60, num_queries=10):\n",
    "    model.train()\n",
    "    total_loss = 0.0\n",
    "    \n",
    "    for epoch in range(meta_epochs):\n",
    "        storage_indices, query_indices, targets, _, _ = sample_task(labels, storage_set_size, num_queries)\n",
    "        \n",
    "        # Load images for storage set S and query set Q.\n",
    "        storage_images = dataset[storage_indices]\n",
    "        # convert numpy array to tensor\n",
    "        storage_images = torch.tensor(storage_images, dtype=torch.float32).unsqueeze(1)\n",
    "        query_images = dataset[query_indices]\n",
    "        # convert numpy array to tensor\n",
    "        query_images = torch.tensor(query_images, dtype=torch.float32).unsqueeze(1)\n",
    "        \n",
    "        \n",
    "        # Reset model memory for the current task.\n",
    "        model.M.zero_()\n",
    "        \n",
    "        # Write phase: write all images in S into memory.\n",
    "        # (Assumes your write() method supports batch inputs.)\n",
    "        _ = model.write(storage_images)  # Expected shape: (storage_set_size, word_size)\n",
    "        \n",
    "        # Read phase: obtain logits for all query images.\n",
    "        logits = model.read(query_images)  # Expected shape: (num_queries, class_num)\n",
    "        # here logits has shape (num_queries, 2) and taregt has shape (num_queries,)\n",
    "        # Convert logits to probabilities using softmax.\n",
    "\n",
    "        # Compute cross-entropy loss (treating it as a binary classification: in-set vs. not in-set).\n",
    "        loss = criterion(logits, targets)\n",
    "        \n",
    "        # Backpropagation: compute gradients and update model parameters.\n",
    "        optimizer.zero_grad()\n",
    "        loss.backward()\n",
    "        optimizer.step()\n",
    "        \n",
    "        \n",
    "        total_loss += loss.item()\n",
    "        if (epoch + 1) % 1 == 0:\n",
    "            avg_loss = total_loss / (epoch + 1)\n",
    "            print(f\"Meta Epoch [{epoch+1}/{meta_epochs}], Loss: {loss.item():.4f}, Avg Loss: {avg_loss:.4f}\")\n",
    "    \n",
    "    return total_loss / meta_epochs\n",
    "\n"
   ]
  },
  {
   "cell_type": "code",
   "execution_count": 54,
   "id": "519a5c3e",
   "metadata": {},
   "outputs": [
    {
     "name": "stdout",
     "output_type": "stream",
     "text": [
      "Chosen class for storage set: 1\n",
      "Meta Epoch [1/10], Loss: 263.6345, Avg Loss: 263.6345\n",
      "Chosen class for storage set: 5\n",
      "Meta Epoch [2/10], Loss: 1035.0492, Avg Loss: 649.3418\n",
      "Chosen class for storage set: 7\n",
      "Meta Epoch [3/10], Loss: 1051.9521, Avg Loss: 783.5453\n",
      "Chosen class for storage set: 7\n",
      "Meta Epoch [4/10], Loss: 898.3794, Avg Loss: 812.2538\n",
      "Chosen class for storage set: 2\n",
      "Meta Epoch [5/10], Loss: 687.8539, Avg Loss: 787.3738\n",
      "Chosen class for storage set: 4\n",
      "Meta Epoch [6/10], Loss: 361.0598, Avg Loss: 716.3215\n",
      "Chosen class for storage set: 4\n",
      "Meta Epoch [7/10], Loss: 81.5811, Avg Loss: 625.6443\n",
      "Chosen class for storage set: 7\n",
      "Meta Epoch [8/10], Loss: 358.5738, Avg Loss: 592.2605\n",
      "Chosen class for storage set: 9\n",
      "Meta Epoch [9/10], Loss: 439.0766, Avg Loss: 575.2400\n",
      "Chosen class for storage set: 5\n",
      "Meta Epoch [10/10], Loss: 692.2152, Avg Loss: 586.9376\n",
      "Meta-training completed. Average Loss: 586.9376\n"
     ]
    }
   ],
   "source": [
    "import torch\n",
    "import torch.nn as nn\n",
    "import torch.optim as optim\n",
    "import random\n",
    "\n",
    "if __name__ == '__main__':\n",
    "    # Hyperparameters\n",
    "    meta_epochs = 10  # Number of meta-tasks/episodes\n",
    "    storage_set_size = 600\n",
    "    num_queries = 100\n",
    "    learning_rate = 0.001\n",
    "\n",
    "    # Device configuration\n",
    "    device = torch.device(\"cuda\" if torch.cuda.is_available() else \"cpu\")\n",
    "    \n",
    "    # MNIST dataset and transform\n",
    "    # Initialize your Neural Bloom Filter model (with desired parameters)\n",
    "    # Here, for demonstration, we use memory_slots=3, word_size=2, and class_num=2 (binary classification)\n",
    "    model = NeuralBloomFilter(memory_slots=3, word_size=32, class_num=2).to(device)\n",
    "    \n",
    "    # Use CrossEntropyLoss for binary classification (2 classes)\n",
    "    criterion = nn.CrossEntropyLoss()\n",
    "    \n",
    "    # Use Adam optimizer\n",
    "    optimizer = optim.Adam(model.parameters(), lr=learning_rate)\n",
    "    \n",
    "    # Start meta-training\n",
    "    avg_loss = meta_train(model, x_train, y_train,optimizer, criterion, device,\n",
    "                          meta_epochs=meta_epochs,\n",
    "                          storage_set_size=storage_set_size,\n",
    "                          num_queries=num_queries)\n",
    "    print(f\"Meta-training completed. Average Loss: {avg_loss:.4f}\")"
   ]
  },
  {
   "cell_type": "code",
   "execution_count": null,
   "id": "1ac91a77",
   "metadata": {},
   "outputs": [],
   "source": []
  }
 ],
 "metadata": {
  "kernelspec": {
   "display_name": "Python 3",
   "language": "python",
   "name": "python3"
  },
  "language_info": {
   "codemirror_mode": {
    "name": "ipython",
    "version": 3
   },
   "file_extension": ".py",
   "mimetype": "text/x-python",
   "name": "python",
   "nbconvert_exporter": "python",
   "pygments_lexer": "ipython3",
   "version": "3.12.6"
  }
 },
 "nbformat": 4,
 "nbformat_minor": 5
}
